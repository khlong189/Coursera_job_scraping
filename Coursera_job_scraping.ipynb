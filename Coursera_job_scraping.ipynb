{
  "nbformat": 4,
  "nbformat_minor": 0,
  "metadata": {
    "colab": {
      "provenance": [],
      "collapsed_sections": [],
      "toc_visible": true
    },
    "kernelspec": {
      "name": "python3",
      "display_name": "Python 3"
    },
    "language_info": {
      "name": "python"
    }
  },
  "cells": [
    {
      "cell_type": "code",
      "execution_count": 163,
      "metadata": {
        "id": "xcri_HB-7oGZ"
      },
      "outputs": [],
      "source": [
        "#libraries\n",
        "import requests\n",
        "import re\n",
        "from bs4 import BeautifulSoup\n",
        "import pandas as pd"
      ]
    },
    {
      "cell_type": "markdown",
      "source": [
        "# Step 1: Get the list of job urls"
      ],
      "metadata": {
        "id": "lsnGhN9bQgPR"
      }
    },
    {
      "cell_type": "code",
      "source": [
        "r = requests.get('https://boards.greenhouse.io/embed/job_board?for=coursera', auth=('user', 'pass'))\n",
        "r.headers['content-type']"
      ],
      "metadata": {
        "colab": {
          "base_uri": "https://localhost:8080/",
          "height": 35
        },
        "id": "_EdaylbP8CTo",
        "outputId": "31a3f7f3-32ce-4263-f2aa-16db4e0b00d5"
      },
      "execution_count": 184,
      "outputs": [
        {
          "output_type": "execute_result",
          "data": {
            "text/plain": [
              "'text/html; charset=utf-8'"
            ],
            "application/vnd.google.colaboratory.intrinsic+json": {
              "type": "string"
            }
          },
          "metadata": {},
          "execution_count": 184
        }
      ]
    },
    {
      "cell_type": "code",
      "source": [
        "r.text"
      ],
      "metadata": {
        "colab": {
          "base_uri": "https://localhost:8080/",
          "height": 161
        },
        "id": "2qmTkjr5Gk0-",
        "outputId": "3e8c4501-d392-4194-87ee-fcd3a6578bc5"
      },
      "execution_count": 185,
      "outputs": [
        {
          "output_type": "execute_result",
          "data": {
            "text/plain": [
              "'<!DOCTYPE html>\\n<html lang=\"en\">\\n<head prefix=\"og: http://ogp.me/ns#\">\\n<script type=\"text/javascript\">var _rollbarConfig = {\"accessToken\":\"333f38f9343644929613c6ff7e965f21\",\"captureUncaught\":true,\"payload\":{\"environment\":\"production\"},\"hostBlockList\":[\"linkedin.com\"],\"checkIgnore\":function(isUncaught, args, payload) {\\n  try {\\n    var isPhantomJS = window.navigator.userAgent.match(/phantomjs/i);\\n    var isSplash= window.navigator.userAgent.match(/splash version/i);\\n    var firefox = window.navigator.userAgent.match(/(firefox)\\\\/(\\\\w+)/i); // JSON, must escape slash\\n\\n    var isFirefoxLessThan50;\\n    if (firefox) {\\n      var majorVersion = Number(firefox[2]);\\n      isFirefoxLessThan50 = majorVersion < 50\\n    }\\n\\n    return Boolean(isPhantomJS) || Boolean(isSplash) || Boolean(isFirefoxLessThan50);\\n  } catch (e) {\\n    return true;\\n  }\\n}\\n};</script>\\n<script type=\"text/javascript\">!function(r){var e={};function o(n){if(e[n])return e[n].exports;var t=e[n]={i:n,l:!1,exports:{}};return r[n].call(t.exports,t,t.exports,o),t.l=!0,t.exports}o.m=r,o.c=e,o.d=function(r,e,n){o.o(r,e)||Object.defineProperty(r,e,{enumerable:!0,get:n})},o.r=function(r){\"undefined\"!=typeof Symbol&&Symbol.toStringTag&&Object.defineProperty(r,Symbol.toStringTag,{value:\"Module\"}),Object.defineProperty(r,\"__esModule\",{value:!0})},o.t=function(r,e){if(1&e&&(r=o(r)),8&e)return r;if(4&e&&\"object\"==typeof r&&r&&r.__esModule)return r;var n=Object.create(null);if(o.r(n),Object.defineProperty(n,\"default\",{enumerable:!0,value:r}),2&e&&\"string\"!=typeof r)for(var t in r)o.d(n,t,function(e){return r[e]}.bind(null,t));return n},o.n=function(r){var e=r&&r.__esModule?function(){return r.default}:function(){return r};return o.d(e,\"a\",e),e},o.o=function(r,e){return Object.prototype.hasOwnProperty.call(r,e)},o.p=\"\",o(o.s=0)}([function(r,e,o){\"use strict\";var n=o(1),t=o(5);_rollbarConfig=_rollbarConfig||{},_rollbarConfig.rollbarJsUrl=_rollbarConfig.rollbarJsUrl||\"https://cdn.rollbar.com/rollbarjs/refs/tags/v2.22.0/rollbar.min.js\",_rollbarConfig.async=void 0===_rollbarConfig.async||_rollbarConfig.async;var a=n.setupShim(window,_rollbarConfig),l=t(_rollbarConfig);window.rollbar=n.Rollbar,a.loadFull(window,document,!_rollbarConfig.async,_rollbarConfig,l)},function(r,e,o){\"use strict\";var n=o(2),t=o(3);function a(r){return function(){try{return r.apply(this,arguments)}catch(r){try{console.error(\"[Rollbar]: Internal error\",r)}catch(r){}}}}var l=0;function i(r,e){this.options=r,this._rollbarOldOnError=null;var o=l++;this.shimId=function(){return o},\"undefined\"!=typeof window&&window._rollbarShims&&(window._rollbarShims[o]={handler:e,messages:[]})}var s=o(4),d=function(r,e){return new i(r,e)},c=function(r){return new s(d,r)};function u(r){return a((function(){var e=this,o=Array.prototype.slice.call(arguments,0),n={shim:e,method:r,args:o,ts:new Date};window._rollbarShims[this.shimId()].messages.push(n)}))}i.prototype.loadFull=function(r,e,o,n,t){var l=!1,i=e.createElement(\"script\"),s=e.getElementsByTagName(\"script\")[0],d=s.parentNode;i.crossOrigin=\"\",i.src=n.rollbarJsUrl,o||(i.async=!0),i.onload=i.onreadystatechange=a((function(){if(!(l||this.readyState&&\"loaded\"!==this.readyState&&\"complete\"!==this.readyState)){i.onload=i.onreadystatechange=null;try{d.removeChild(i)}catch(r){}l=!0,function(){var e;if(void 0===r._rollbarDidLoad){e=new Error(\"rollbar.js did not load\");for(var o,n,a,l,i=0;o=r._rollbarShims[i++];)for(o=o.messages||[];n=o.shift();)for(a=n.args||[],i=0;i<a.length;++i)if(\"function\"==typeof(l=a[i])){l(e);break}}\"function\"==typeof t&&t(e)}()}})),d.insertBefore(i,s)},i.prototype.wrap=function(r,e,o){try{var n;if(n=\"function\"==typeof e?e:function(){return e||{}},\"function\"!=typeof r)return r;if(r._isWrap)return r;if(!r._rollbar_wrapped&&(r._rollbar_wrapped=function(){o&&\"function\"==typeof o&&o.apply(this,arguments);try{return r.apply(this,arguments)}catch(o){var e=o;throw e&&(\"string\"==typeof e&&(e=new String(e)),e._rollbarContext=n()||{},e._rollbarContext._wrappedSource=r.toString(),window._rollbarWrappedError=e),e}},r._rollbar_wrapped._isWrap=!0,r.hasOwnProperty))for(var t in r)r.hasOwnProperty(t)&&(r._rollbar_wrapped[t]=r[t]);return r._rollbar_wrapped}catch(e){return r}};for(var p=\"log,debug,info,warn,warning,error,critical,global,configure,handleUncaughtException,handleAnonymousErrors,handleUnhandledRejection,captureEvent,captureDomContentLoaded,captureLoad\".split(\",\"),f=0;f<p.length;++f)i.prototype[p[f]]=u(p[f]);r.exports={setupShim:function(r,e){if(r){var o=e.globalAlias||\"Rollbar\";if(\"object\"==typeof r[o])return r[o];r._rollbarShims={},r._rollbarWrappedError=null;var l=new c(e);return a((function(){e.captureUncaught&&(l._rollbarOldOnError=r.onerror,n.captureUncaughtExceptions(r,l,!0),e.wrapGlobalEventHandlers&&t(r,l,!0)),e.captureUnhandledRejections&&n.captureUnhandledRejections(r,l,!0);var a=e.autoInstrument;return!1!==e.enabled&&(void 0===a||!0===a||\"object\"==typeof a&&a.network)&&r.addEventListener&&(r.addEventListener(\"load\",l.captureLoad.bind(l)),r.addEventListener(\"DOMContentLoaded\",l.captureDomContentLoaded.bind(l))),r[o]=l,l}))()}},Rollbar:c}},function(r,e,o){\"use strict\";function n(r,e,o,n){r._rollbarWrappedError&&(n[4]||(n[4]=r._rollbarWrappedError),n[5]||(n[5]=r._rollbarWrappedError._rollbarContext),r._rollbarWrappedError=null);var t=e.handleUncaughtException.apply(e,n);o&&o.apply(r,n),\"anonymous\"===t&&(e.anonymousErrorsPending+=1)}r.exports={captureUncaughtExceptions:function(r,e,o){if(r){var t;if(\"function\"==typeof e._rollbarOldOnError)t=e._rollbarOldOnError;else if(r.onerror){for(t=r.onerror;t._rollbarOldOnError;)t=t._rollbarOldOnError;e._rollbarOldOnError=t}e.handleAnonymousErrors();var a=function(){var o=Array.prototype.slice.call(arguments,0);n(r,e,t,o)};o&&(a._rollbarOldOnError=t),r.onerror=a}},captureUnhandledRejections:function(r,e,o){if(r){\"function\"==typeof r._rollbarURH&&r._rollbarURH.belongsToShim&&r.removeEventListener(\"unhandledrejection\",r._rollbarURH);var n=function(r){var o,n,t;try{o=r.reason}catch(r){o=void 0}try{n=r.promise}catch(r){n=\"[unhandledrejection] error getting `promise` from event\"}try{t=r.detail,!o&&t&&(o=t.reason,n=t.promise)}catch(r){}o||(o=\"[unhandledrejection] error getting `reason` from event\"),e&&e.handleUnhandledRejection&&e.handleUnhandledRejection(o,n)};n.belongsToShim=o,r._rollbarURH=n,r.addEventListener(\"unhandledrejection\",n)}}}},function(r,e,o){\"use strict\";function n(r,e,o){if(e.hasOwnProperty&&e.hasOwnProperty(\"addEventListener\")){for(var n=e.addEventListener;n._rollbarOldAdd&&n.belongsToShim;)n=n._rollbarOldAdd;var t=function(e,o,t){n.call(this,e,r.wrap(o),t)};t._rollbarOldAdd=n,t.belongsToShim=o,e.addEventListener=t;for(var a=e.removeEventListener;a._rollbarOldRemove&&a.belongsToShim;)a=a._rollbarOldRemove;var l=function(r,e,o){a.call(this,r,e&&e._rollbar_wrapped||e,o)};l._rollbarOldRemove=a,l.belongsToShim=o,e.removeEventListener=l}}r.exports=function(r,e,o){if(r){var t,a,l=\"EventTarget,Window,Node,ApplicationCache,AudioTrackList,ChannelMergerNode,CryptoOperation,EventSource,FileReader,HTMLUnknownElement,IDBDatabase,IDBRequest,IDBTransaction,KeyOperation,MediaController,MessagePort,ModalWindow,Notification,SVGElementInstance,Screen,TextTrack,TextTrackCue,TextTrackList,WebSocket,WebSocketWorker,Worker,XMLHttpRequest,XMLHttpRequestEventTarget,XMLHttpRequestUpload\".split(\",\");for(t=0;t<l.length;++t)r[a=l[t]]&&r[a].prototype&&n(e,r[a].prototype,o)}}},function(r,e,o){\"use strict\";function n(r,e){this.impl=r(e,this),this.options=e,function(r){for(var e=function(r){return function(){var e=Array.prototype.slice.call(arguments,0);if(this.impl[r])return this.impl[r].apply(this.impl,e)}},o=\"log,debug,info,warn,warning,error,critical,global,configure,handleUncaughtException,handleAnonymousErrors,handleUnhandledRejection,_createItem,wrap,loadFull,shimId,captureEvent,captureDomContentLoaded,captureLoad\".split(\",\"),n=0;n<o.length;n++)r[o[n]]=e(o[n])}(n.prototype)}n.prototype._swapAndProcessMessages=function(r,e){var o,n,t;for(this.impl=r(this.options);o=e.shift();)n=o.method,t=o.args,this[n]&&\"function\"==typeof this[n]&&(\"captureDomContentLoaded\"===n||\"captureLoad\"===n?this[n].apply(this,[t[0],o.ts]):this[n].apply(this,t));return this},r.exports=n},function(r,e,o){\"use strict\";r.exports=function(r){return function(e){if(!e&&!window._rollbarInitialized){for(var o,n,t=(r=r||{}).globalAlias||\"Rollbar\",a=window.rollbar,l=function(r){return new a(r)},i=0;o=window._rollbarShims[i++];)n||(n=o.handler),o.handler._swapAndProcessMessages(l,o.messages);window[t]=n,window._rollbarInitialized=!0}}}}]);</script>\\n  <title>Jobs at Coursera</title>\\n  <meta http-equiv=\"X-UA-Compatible\" content=\"IE=edge,chrome=1\">\\n  <meta id=\"viewport\" name=\"viewport\" content =\"width=device-width, minimum-scale=1.0\" />\\n  <meta id=\"rendered-by\" content=\"jben\" />\\n  <link rel=\"stylesheet\" media=\"all\" href=\"https://boards.cdn.greenhouse.io/assets/application-a6d2e561e41c10f2af9cb9ada87f95f1a901986175a7f5d963b89e51d7eeda2c.css\" />\\n<link rel=\"stylesheet\" media=\"all\" href=\"https://boards.cdn.greenhouse.io/assets/responsive-95ad71d0f9cbcb13adb28ed74687b15c00a64bb1c4a6ab47ab9072493777804c.css\" />\\n  \\n        <link rel=\"stylesheet\" media=\"screen\" href=\"https://s4-recruiting.cdn.greenhouse.io/external_greenhouse_job_boards/custom_css_files/400/627/800/original/Modern-12-13.css?1639594867\" />\\n\\n\\n    <meta property=\"gh:type\" content=\"embedded\" />\\n\\n    <meta property=\"og:title\" content=\"Coursera\"></meta>\\n    <meta property=\"og:description\" content=\"\"></meta>\\n    <meta property=\"og:url\" content=\"https://boards.greenhouse.io/coursera\"></meta>\\n    <meta property=\"og:type\" content=\"article\"></meta>\\n      <meta property=\"og:image\" content=\"https://s4-recruiting.cdn.greenhouse.io/external_greenhouse_job_boards/logos/400/627/800/original/linkedin-job-share.png?1643325040\"></meta>\\n\\n</head>\\n<body>\\n  <div id=\"wrapper\">\\n    <div id=\"main\" class=\"accessible\">\\n      \\n\\n<div id=\"embedded_job_board_wrapper\" style=\"padding: 20px;\">\\n  \\n<div id=\"logo\"><img alt=\"Coursera Logo\" src=\"https://s4-recruiting.cdn.greenhouse.io/external_greenhouse_job_boards/logos/400/627/800/resized/linkedin-job-share.png?1643325040\" width=\"144\" height=\"75\" /></div>\\n\\n  <h1>Coursera</h1>\\n\\n  <div id=\"content\">\\n    \\n  </div>\\n\\n    <h2 id=\"board_title\">Current Job Openings</h2>\\n\\n    <div class=\"filter-container\">\\n      <label class=\"filter-label\" for=\"departments-select\">Department</label>\\n\\n    <select name=\"departments-select\" id=\"departments-select\">\\n      <option value=\"\">All Departments</option>\\n      \\n\\n<option value=\"4038076004\">\\n  Credentials &amp; Content\\n</option>\\n\\n\\n<option value=\"4038079004\">\\n  &#160;&#160;Content &amp; Credentials Operations\\n</option>\\n\\n\\n\\n\\n<option value=\"4038042004\">\\n  Engineering\\n</option>\\n\\n\\n\\n<option value=\"4038050004\">\\n  Finance &amp; Accounting\\n</option>\\n\\n\\n<option value=\"4038052004\">\\n  &#160;&#160;Accounting\\n</option>\\n\\n\\n\\n\\n<option value=\"4038063004\">\\n  Marketing\\n</option>\\n\\n\\n<option value=\"4038065004\">\\n  &#160;&#160;PR &amp; Comms\\n</option>\\n\\n\\n\\n\\n<option value=\"4038043004\">\\n  Product\\n</option>\\n\\n\\n<option value=\"4038045004\">\\n  &#160;&#160;Data Science\\n</option>\\n\\n\\n\\n\\n<option value=\"4038058004\">\\n  Sales &amp; Enterprise\\n</option>\\n\\n\\n<option value=\"4038059004\">\\n  &#160;&#160;Sales\\n</option>\\n\\n\\n\\n    </select>\\n  </div>\\n\\n  <div class=\"filter-container\">\\n      <label class=\"filter-label\" for=\"offices-select\">Office</label>\\n\\n    <select name=\"offices-select\" id=\"offices-select\">\\n      <option value=\"\">All Offices</option>\\n      \\n\\n<option value=\"4024714004\">\\n  Europe, Middle East, &amp; Africa\\n</option>\\n\\n\\n<option value=\"4024715004\">\\n  &#160;&#160;Bulgaria\\n</option>\\n\\n\\n\\n\\n<option value=\"4024719004\">\\n  North Americas\\n</option>\\n\\n\\n<option value=\"4024722004\">\\n  &#160;&#160;Canada\\n</option>\\n\\n\\n\\n<option value=\"4024720004\">\\n  &#160;&#160;United States\\n</option>\\n\\n\\n\\n    </select>\\n  </div>\\n\\n\\n\\n<div id=\"filter-count\"></div>\\n\\n  \\n\\n<section class=\"level-0\">\\n  <h3 id=\"4038076004\">Credentials &amp; Content</h3>\\n\\n  \\n  \\n\\n<section class=\"child level-1\">\\n  <h4 id=\"4038079004\">Content &amp; Credentials Operations</h4>\\n\\n  <div class=\"opening\" department_id=\"4038076004,4038079004\" office_id=\"4024719004,4024720004\" data-office-4024719004=\"true\" data-office-4024720004=\"true\" data-department-4038076004=\"true\" data-department-4038079004=\"true\">\\n  <a data-mapped=\"true\" target=\"_top\" href=\"https://about.coursera.org/careers/jobs?gh_jid=4645401004\">Content Strategy Manager, Computer Science &amp; Technology</a>\\n  <br/>\\n  <span class=\"location\">United States</span>\\n</div>\\n  \\n</section>\\n</section>\\n\\n<section class=\"level-0\">\\n  <h3 id=\"4038042004\">Engineering</h3>\\n\\n  <div class=\"opening\" department_id=\"4038042004\" office_id=\"4024714004,4024715004\" data-office-4024714004=\"true\" data-office-4024715004=\"true\" data-department-4038042004=\"true\">\\n  <a data-mapped=\"true\" target=\"_top\" href=\"https://about.coursera.org/careers/jobs?gh_jid=4614435004\">Engineering Manager</a>\\n  <br/>\\n  <span class=\"location\">Bulgaria</span>\\n</div><div class=\"opening\" department_id=\"4038042004\" office_id=\"4024714004,4024715004\" data-office-4024714004=\"true\" data-office-4024715004=\"true\" data-department-4038042004=\"true\">\\n  <a data-mapped=\"true\" target=\"_top\" href=\"https://about.coursera.org/careers/jobs?gh_jid=4710854004\">Senior Software Engineer, Back End</a>\\n  <br/>\\n  <span class=\"location\">Bulgaria</span>\\n</div><div class=\"opening\" department_id=\"4038042004\" office_id=\"4024719004,4024720004\" data-office-4024719004=\"true\" data-office-4024720004=\"true\" data-department-4038042004=\"true\">\\n  <a data-mapped=\"true\" target=\"_top\" href=\"https://about.coursera.org/careers/jobs?gh_jid=4606915004\">Sr Software Engineer - Application Architecture</a>\\n  <br/>\\n  <span class=\"location\">Canada</span>\\n</div>\\n  \\n</section>\\n\\n<section class=\"level-0\">\\n  <h3 id=\"4038050004\">Finance &amp; Accounting</h3>\\n\\n  \\n  \\n\\n<section class=\"child level-1\">\\n  <h4 id=\"4038052004\">Accounting</h4>\\n\\n  <div class=\"opening\" department_id=\"4038050004,4038052004\" office_id=\"4024719004,4024720004\" data-office-4024719004=\"true\" data-office-4024720004=\"true\" data-department-4038050004=\"true\" data-department-4038052004=\"true\">\\n  <a data-mapped=\"true\" target=\"_top\" href=\"https://about.coursera.org/careers/jobs?gh_jid=4703409004\">Equity Compensation Accountant</a>\\n  <br/>\\n  <span class=\"location\">United States</span>\\n</div>\\n  \\n</section>\\n</section>\\n\\n<section class=\"level-0\">\\n  <h3 id=\"4038063004\">Marketing</h3>\\n\\n  \\n  \\n\\n<section class=\"child level-1\">\\n  <h4 id=\"4038065004\">PR &amp; Comms</h4>\\n\\n  <div class=\"opening\" department_id=\"4038063004,4038065004\" office_id=\"4024719004,4024720004\" data-office-4024719004=\"true\" data-office-4024720004=\"true\" data-department-4038063004=\"true\" data-department-4038065004=\"true\">\\n  <a data-mapped=\"true\" target=\"_top\" href=\"https://about.coursera.org/careers/jobs?gh_jid=4718868004\">Senior Internal Communications Manager</a>\\n  <br/>\\n  <span class=\"location\">United States</span>\\n</div>\\n  \\n</section>\\n</section>\\n\\n<section class=\"level-0\">\\n  <h3 id=\"4038043004\">Product</h3>\\n\\n  \\n  \\n\\n<section class=\"child level-1\">\\n  <h4 id=\"4038045004\">Data Science</h4>\\n\\n  <div class=\"opening\" department_id=\"4038043004,4038045004\" office_id=\"4024719004,4024722004\" data-office-4024719004=\"true\" data-office-4024722004=\"true\" data-department-4038043004=\"true\" data-department-4038045004=\"true\">\\n  <a data-mapped=\"true\" target=\"_top\" href=\"https://about.coursera.org/careers/jobs?gh_jid=4659828004\"> Senior Data Scientist - Insight</a>\\n  <br/>\\n  <span class=\"location\">Canada</span>\\n</div><div class=\"opening\" department_id=\"4038043004,4038045004\" office_id=\"4024719004,4024720004\" data-office-4024719004=\"true\" data-office-4024720004=\"true\" data-department-4038043004=\"true\" data-department-4038045004=\"true\">\\n  <a data-mapped=\"true\" target=\"_top\" href=\"https://about.coursera.org/careers/jobs?gh_jid=4674413004\">Senior Machine Learning Scientist - Search</a>\\n  <br/>\\n  <span class=\"location\">United States</span>\\n</div><div class=\"opening\" department_id=\"4038043004,4038045004\" office_id=\"4024719004,4024720004\" data-office-4024719004=\"true\" data-office-4024720004=\"true\" data-department-4038043004=\"true\" data-department-4038045004=\"true\">\\n  <a data-mapped=\"true\" target=\"_top\" href=\"https://about.coursera.org/careers/jobs?gh_jid=4612922004\">Staff Machine Learning Scientist - Recommendation</a>\\n  <br/>\\n  <span class=\"location\">United States</span>\\n</div>\\n  \\n</section>\\n</section>\\n\\n<section class=\"level-0\">\\n  <h3 id=\"4038058004\">Sales &amp; Enterprise</h3>\\n\\n  \\n  \\n\\n<section class=\"child level-1\">\\n  <h4 id=\"4038059004\">Sales</h4>\\n\\n  <div class=\"opening\" department_id=\"4038058004,4038059004\" office_id=\"4024719004,4024720004\" data-office-4024719004=\"true\" data-office-4024720004=\"true\" data-department-4038058004=\"true\" data-department-4038059004=\"true\">\\n  <a data-mapped=\"true\" target=\"_top\" href=\"https://about.coursera.org/careers/jobs?gh_jid=4687783004\">Enterprise Account Executive - Public Sector</a>\\n  <br/>\\n  <span class=\"location\">United States</span>\\n</div>\\n  \\n</section>\\n</section>\\n  \\n\\n\\n</div>\\n\\n    </div>\\n  </div>\\n\\n    \\n      <script src=\"https://boards.cdn.greenhouse.io/assets/application-faf38de05bcb7b4f4363b2cd97e8a90e6f36b1c178b5a2bc06b9c904745ebdf5.js\"></script>\\n  <script src=\"https://boards.cdn.greenhouse.io/assets/embed/window_sizing-f151963cd54735a35dbe973843448a89748d254efc3cdf98b3f15d56fdb2d397.js\"></script>\\n\\n  <script src=\"https://boards.cdn.greenhouse.io/assets/index_init-b257fc242bdcd2b7d88beddbb8bbb8b171d1e40ebf2de22fd9f149d3bcfd82c2.js\"></script>  \\n\\n  </body>\\n</html>\\n'"
            ],
            "application/vnd.google.colaboratory.intrinsic+json": {
              "type": "string"
            }
          },
          "metadata": {},
          "execution_count": 185
        }
      ]
    },
    {
      "cell_type": "code",
      "source": [
        "soup = BeautifulSoup(r.text,'html.parser')\n",
        "soup.find('section').a.get('href')"
      ],
      "metadata": {
        "colab": {
          "base_uri": "https://localhost:8080/",
          "height": 35
        },
        "id": "fjYpqH_AG2ZK",
        "outputId": "593cb343-c913-4ebb-9e18-0e2cd7311c75"
      },
      "execution_count": 186,
      "outputs": [
        {
          "output_type": "execute_result",
          "data": {
            "text/plain": [
              "'https://about.coursera.org/careers/jobs?gh_jid=4645401004'"
            ],
            "application/vnd.google.colaboratory.intrinsic+json": {
              "type": "string"
            }
          },
          "metadata": {},
          "execution_count": 186
        }
      ]
    },
    {
      "cell_type": "code",
      "source": [
        "url = []\n",
        "for item in soup.find_all('section'):\n",
        "    url.append(item.a.get('href'))\n",
        "\n",
        "uniq_url = list(set(url))\n",
        "uniq_url"
      ],
      "metadata": {
        "id": "eYAV9XnJPAX2",
        "colab": {
          "base_uri": "https://localhost:8080/"
        },
        "outputId": "ab716462-7b77-45b8-b302-12dd8828acc2"
      },
      "execution_count": 189,
      "outputs": [
        {
          "output_type": "execute_result",
          "data": {
            "text/plain": [
              "['https://about.coursera.org/careers/jobs?gh_jid=4614435004',\n",
              " 'https://about.coursera.org/careers/jobs?gh_jid=4718868004',\n",
              " 'https://about.coursera.org/careers/jobs?gh_jid=4687783004',\n",
              " 'https://about.coursera.org/careers/jobs?gh_jid=4645401004',\n",
              " 'https://about.coursera.org/careers/jobs?gh_jid=4659828004',\n",
              " 'https://about.coursera.org/careers/jobs?gh_jid=4703409004']"
            ]
          },
          "metadata": {},
          "execution_count": 189
        }
      ]
    },
    {
      "cell_type": "markdown",
      "source": [
        "# Step 2: Job data"
      ],
      "metadata": {
        "id": "7smntPSWZByE"
      }
    },
    {
      "cell_type": "code",
      "source": [
        "r2 = requests.get('https://boards.greenhouse.io/embed/job_app?for=coursera&token=4645401004', auth=('user', 'pass'))"
      ],
      "metadata": {
        "id": "8W_TD38xVduX"
      },
      "execution_count": 197,
      "outputs": []
    },
    {
      "cell_type": "code",
      "source": [
        "def dict_job(get_request):  \n",
        "  '''\n",
        "  get_request: send a GET request to specific URL\n",
        "\n",
        "  return a dictionary of all necessary data for a single job URL\n",
        "  '''\n",
        "  job_dict = {}\n",
        "  soup = BeautifulSoup(get_request.text,'html.parser')\n",
        "  job_dict['Title'] = soup.find('h1',{'class':'app-title'}).text #job title\n",
        "  job_dict['Company'] = soup.find('span',{'class':'company-name'}).text.replace(' at','').strip('\\n \\n') #company\n",
        "  job_dict['Location'] = soup.find('div',{'class':'location'}).text.strip('\\n \\n') #location\n",
        "  job_dict['Description'] = soup.find_all('ul')[0].text.strip().split('\\n') #job description\n",
        "  job_dict['Basic Qualification'] = soup.find_all('ul')[1].text.strip().split('\\n') #basic qualification\n",
        "  job_dict['Preferred Qualification'] = soup.find_all('ul')[2].text.strip().split('\\n') #preferred qualification\n",
        "\n",
        "  return job_dict"
      ],
      "metadata": {
        "id": "4MZFwTmUc2ef"
      },
      "execution_count": 198,
      "outputs": []
    },
    {
      "cell_type": "code",
      "source": [
        "dict_job(r2)"
      ],
      "metadata": {
        "colab": {
          "base_uri": "https://localhost:8080/"
        },
        "id": "kTBOptFZ5-oE",
        "outputId": "4a160483-e93b-47bd-d859-00f48c5ff20c"
      },
      "execution_count": 199,
      "outputs": [
        {
          "output_type": "execute_result",
          "data": {
            "text/plain": [
              "{'Title': 'Content Strategy Manager, Computer Science & Technology',\n",
              " 'Company': 'Coursera',\n",
              " 'Location': 'United States',\n",
              " 'Description': ['Identify in-demand jobs and skills in Computer Science & Tech, and translate them into relevant content and credentials to meet Comp Sci/Info Tech learners’ needs',\n",
              "  'Consult with companies and universities (via Partnerships Managers) on strategic content opportunities in Computer Science & Tech',\n",
              "  'Curate and analyze Tech catalogs',\n",
              "  'Use data and domain knowledge to ensure the overall health of Computer Science & Tech at Coursera',\n",
              "  'Present internally and externally to knowledge area experts and people without a background in Computer Science & Tech on your recommendations'],\n",
              " 'Basic Qualification': [\"Bachelor's degree in Computer Science, Software Engineering or other tech related discipline\",\n",
              "  '5+ years of experience with a breadth of topics related to Computer Science & Technology',\n",
              "  'Demonstrated history in data analysis or research, using Excel and/or other tools',\n",
              "  'Possesses strategic thinking skills'],\n",
              " 'Preferred Qualification': ['Masters degree in Computer Science & Tech or other related fields preferred',\n",
              "  'Experience with breaking down complex Computer Science & Tech topics for beginner to advanced learners',\n",
              "  'Experience analyzing and curating tech catalogs',\n",
              "  'Excellent written and verbal communication skills',\n",
              "  'Experience with EdTech strategy a plus',\n",
              "  'Experience and knowledge in the areas of cybersecurity, traditional IT architecture, and physical engineering (e.g. electrical, mechanical) are a plus']}"
            ]
          },
          "metadata": {},
          "execution_count": 199
        }
      ]
    },
    {
      "cell_type": "markdown",
      "source": [
        "# Step 3 - Get the full job data for each job"
      ],
      "metadata": {
        "id": "oXC3DvilXN7R"
      }
    },
    {
      "cell_type": "code",
      "source": [
        "token_url = []\n",
        "for i in range(len(uniq_url)):\n",
        "  token_url.append(re.search(\"[0-9]+\", uniq_url[i]).group())\n",
        "\n",
        "token_url"
      ],
      "metadata": {
        "colab": {
          "base_uri": "https://localhost:8080/"
        },
        "id": "xhvFdbIlsy1_",
        "outputId": "5fb67f7a-305d-4dae-b60f-05ccc376f7de"
      },
      "execution_count": 192,
      "outputs": [
        {
          "output_type": "execute_result",
          "data": {
            "text/plain": [
              "['4614435004',\n",
              " '4718868004',\n",
              " '4687783004',\n",
              " '4645401004',\n",
              " '4659828004',\n",
              " '4703409004']"
            ]
          },
          "metadata": {},
          "execution_count": 192
        }
      ]
    },
    {
      "cell_type": "code",
      "source": [
        "def get_job_data(root_url,url_arr):\n",
        "  '''\n",
        "  root_url: the root string of the job url that does not contain the token\n",
        "  url_arr: list of unique job tokens scraped from Coursera Job Search webpage\n",
        "\n",
        "  return the list of all necessary for all jobs on Coursera Job Search webpage\n",
        "  '''\n",
        "  result = []\n",
        "  for token in range(len(token_url)): \n",
        "    req = requests.get(root + token_url[token], auth=('user', 'pass'))\n",
        "    result.append([(key, value) for key, value in dict_job(req).items()])\n",
        "  \n",
        "  return result"
      ],
      "metadata": {
        "id": "oLHz_MIyxQo5"
      },
      "execution_count": 220,
      "outputs": []
    },
    {
      "cell_type": "code",
      "source": [
        "root = 'https://boards.greenhouse.io/embed/job_app?for=coursera&token='\n",
        "get_job_data(root,token_url)"
      ],
      "metadata": {
        "colab": {
          "base_uri": "https://localhost:8080/"
        },
        "id": "UKKoZswb1d4L",
        "outputId": "7b2125ba-5e8c-4ba8-bf36-5f1540ae0cc2"
      },
      "execution_count": 221,
      "outputs": [
        {
          "output_type": "execute_result",
          "data": {
            "text/plain": [
              "[[('Title', 'Engineering Manager'),\n",
              "  ('Company', 'Coursera'),\n",
              "  ('Location', 'Bulgaria'),\n",
              "  ('Description',\n",
              "   ['Mentoring: Acting as a role model, aiding in career development conversations, inspiring engineers, providing feedback.',\n",
              "    'Hiring: Building a vision of team skill sets, identifying key growth areas, managing the hiring pipeline.',\n",
              "    'Advising: Providing technical suggestions to engineers as they grow into engineering leaders in their product work.',\n",
              "    'Product enablement: Acting as a curator of a vision, discussing needs with stakeholders, prioritizing, driving forward on key initiatives, running sprint planning meetings, and standups.',\n",
              "    'Platform leadership: balancing effective product feature delivery against managing tech debt',\n",
              "    'Mediating: Investigating interpersonal issues, facilitating crucial conversations.']),\n",
              "  ('Basic Qualification',\n",
              "   ['Bachelors in computer science or relevant degree OR 3+ years of experience as an engineering IC',\n",
              "    'Leadership (integrity, transparency, inspiration)',\n",
              "    'Emotional intelligence (empathy, humility, patience, communication skills)',\n",
              "    'Problem-solving (creativity, technical rigor, intelligence)',\n",
              "    'Excellence in ambiguous and complex situations (clarity of vision, boldness, grit)',\n",
              "    'Experience (5+ years in product development or a related field, 3+ years in a management position)',\n",
              "    'Strong communication skills in English']),\n",
              "  ('Preferred Qualification',\n",
              "   ['Experience balancing effective product feature delivery against managing tech\\xa0',\n",
              "    'Experience managing a team owning both product features and the underlying infrastructure'])],\n",
              " [('Title', 'Senior Internal Communications Manager'),\n",
              "  ('Company', 'Coursera'),\n",
              "  ('Location', 'United States'),\n",
              "  ('Description',\n",
              "   ['Produce and host company-wide meetings and events (such as All Hands meetings, town halls, and “Ask Me Anything” events) that promote trust, confidence, and engagement',\n",
              "    'Develop an internal communications strategy that empowers Coursera employees to be productive, build community, and drive results',\n",
              "    'Collaborate with executives to communicate proactively and reactively about issues and initiatives that impact employees',\n",
              "    'Write internal narratives and messaging about Coursera’s mission and impact, product innovation, and HR offerings',\n",
              "    'Strengthen and re-imagine how we leverage multiple channels and tools to support remote work and asynchronous collaboration',\n",
              "    'Work with PR team to grow Coursera’s reputation as a great place to work']),\n",
              "  ('Basic Qualification',\n",
              "   ['7+ of experience running internal communications or strategic communications in fast-growing companies',\n",
              "    'Experience advising senior management on employee sentiment and internal comms imperatives',\n",
              "    'Demonstrated history translating complex topics into simple and compelling messages with proven writing skills',\n",
              "    'Experience producing communications across a variety of channels',\n",
              "    'Experience in managing communications tools such as Zoom, Slido, Nova (or equivalent intranet), and Slack']),\n",
              "  ('Preferred Qualification',\n",
              "   ['Prior success planning and executing virtual events. Virtual production experience is a plus.',\n",
              "    'Experience working at a public company.\\xa0Edtech industry experience a plus.',\n",
              "    'Experience working with People Operations (HR) or change communications',\n",
              "    'Experience leading intranet implementation, governance, content strategy, and adoption',\n",
              "    'Experience working on diversity, equity, and inclusion (DEI) communications',\n",
              "    'English Major or an equivalent'])],\n",
              " [('Title', 'Enterprise Account Executive - Public Sector'),\n",
              "  ('Company', 'Coursera'),\n",
              "  ('Location', 'United States'),\n",
              "  ('Description',\n",
              "   ['Prospect new mid-market Public Sector/Government opportunities in alignment with Coursera’s high-level strategic priorities',\n",
              "    'Use in-depth knowledge of industry trends and data-driven insights to consult and engage prospective customers\\xa0',\n",
              "    'Develop and execute on sales targets, hitting (and exceeding) revenue/growth goals and sharing learning across the organization.',\n",
              "    'Balance your efforts effectively between pipeline generation, outbound prospecting, and leading complex sales cycles from start to finish.',\n",
              "    'Be a voice for Coursera’s public sector partners, sharing customer-driven insights across Coursera, including product, engineering, business development, and legal',\n",
              "    'Perform various sales and marketing operations tasks, including managing the sales pipeline with Coursera’s CRM tool']),\n",
              "  ('Basic Qualification',\n",
              "   ['2+ years experience selling solutions within the Federal Civilian and/or Defense sectors.']),\n",
              "  ('Preferred Qualification',\n",
              "   ['5+ years public sector sales experience at a SaaS company',\n",
              "    'Superior written and verbal communication skills, strong analytical and creative problem solving abilities, excellent interpersonal skills, organizational, and operational skills',\n",
              "    'A record of past achievement, including demonstrated ability to close complex, 7-figure deals and the ability to spearhead new strategic initiatives and manage senior-level external stakeholders',\n",
              "    'Entrepreneurial drive and comfort working in ambiguous, quickly-changing environments',\n",
              "    'Ability to listen well, hold your own in meetings with senior executive representatives from prospective partners, and speak as a thought-leader in this space',\n",
              "    'Extensive network in the North American public sector L&D, HR and/or IT space.\\xa0',\n",
              "    'Experience working in the government, military, non-profit, or workforce development spaces a plus'])],\n",
              " [('Title', 'Content Strategy Manager, Computer Science & Technology'),\n",
              "  ('Company', 'Coursera'),\n",
              "  ('Location', 'United States'),\n",
              "  ('Description',\n",
              "   ['Identify in-demand jobs and skills in Computer Science & Tech, and translate them into relevant content and credentials to meet Comp Sci/Info Tech learners’ needs',\n",
              "    'Consult with companies and universities (via Partnerships Managers) on strategic content opportunities in Computer Science & Tech',\n",
              "    'Curate and analyze Tech catalogs',\n",
              "    'Use data and domain knowledge to ensure the overall health of Computer Science & Tech at Coursera',\n",
              "    'Present internally and externally to knowledge area experts and people without a background in Computer Science & Tech on your recommendations']),\n",
              "  ('Basic Qualification',\n",
              "   [\"Bachelor's degree in Computer Science, Software Engineering or other tech related discipline\",\n",
              "    '5+ years of experience with a breadth of topics related to Computer Science & Technology',\n",
              "    'Demonstrated history in data analysis or research, using Excel and/or other tools',\n",
              "    'Possesses strategic thinking skills']),\n",
              "  ('Preferred Qualification',\n",
              "   ['Masters degree in Computer Science & Tech or other related fields preferred',\n",
              "    'Experience with breaking down complex Computer Science & Tech topics for beginner to advanced learners',\n",
              "    'Experience analyzing and curating tech catalogs',\n",
              "    'Excellent written and verbal communication skills',\n",
              "    'Experience with EdTech strategy a plus',\n",
              "    'Experience and knowledge in the areas of cybersecurity, traditional IT architecture, and physical engineering (e.g. electrical, mechanical) are a plus'])],\n",
              " [('Title', ' Senior Data Scientist - Insight'),\n",
              "  ('Company', 'Coursera'),\n",
              "  ('Location', 'Canada'),\n",
              "  ('Description',\n",
              "   ['Develop our understanding of Coursera’s products, business, and learners by analyzing learner and enterprise admin behavior to uncover patterns and identify opportunities for improvement',\n",
              "    'Partner with product and business leadership, using data to influence strategy across different product and business lines',\n",
              "    'Distill insights from complex data and/or data product results; build efficient and scalable insights',\n",
              "    'Communicate findings clearly to both technical and non-technical audiences.',\n",
              "    'Partner with other data scientists to develop measurement plans for new data product launches and to share context from different areas of the business and build a more complete and consistent understanding of what data tells us about our learners']),\n",
              "  ('Basic Qualification',\n",
              "   ['BA or background in economics, statistics, applied math, or a related technical field',\n",
              "    '4+ years of experience working with data in a professional setting',\n",
              "    '2+ years of demonstrated history applying statistical inference techniques to business questions',\n",
              "    'Demonstrated history of using at least one scripting or statistical language (e.g. R, Python, Julia, MATLAB, etc.)',\n",
              "    'Demonstrated history of using relational databases and SQL']),\n",
              "  ('Preferred Qualification',\n",
              "   ['2+ years of experience using data to advise product or business teams',\n",
              "    'MA or Ph.D. in\\xa0 economics, statistics, applied math, or a related technical field',\n",
              "    'Experience in causal inference methodologies',\n",
              "    '1+ years of experience providing technical mentorship to data scientists'])],\n",
              " [('Title', 'Equity Compensation Accountant'),\n",
              "  ('Company', 'Coursera'),\n",
              "  ('Location', 'United States'),\n",
              "  ('Description',\n",
              "   ['Assist in transaction processing (option exercises, RSU releases, ESPP purchases and grants) using ETrade’s EquityEdge Online system',\n",
              "    'Assist with aspects of our global equity programs and coordinate with Finance, HR, Tax and Payroll teams, providing accurate and timely information regarding equity transactions',\n",
              "    'Provide information for financial statement footnote disclosures, reconcile common stock, additional paid in capital, and related employee taxes; prepare monthly and quarterly equity roll forward',\n",
              "    'Prepare Section 16 reports (Forms 3, 4 and 5) with the SEC',\n",
              "    'Provide regular communication to employees regarding equity programs, resolving questions, issues or concerns to support employee understanding of equity awards and company programs and policies\\xa0',\n",
              "    'Ensure SOX compliance and controls on all aspects of the equity plan including documentation, testing and audit support',\n",
              "    'Work with transfer agent for timely DWAC and reconciliation of shares']),\n",
              "  ('Basic Qualification',\n",
              "   ['2+ years of experience in stock plan administration, including experience working at a public company',\n",
              "    'Experience with Equity Edge/ETrade (Equity System) and direct experience processing equity transactions',\n",
              "    'Experience with ESPP',\n",
              "    'Advanced skills in Excel']),\n",
              "  ('Preferred Qualification',\n",
              "   ['Accounting and stock compensation expense background\\xa0',\n",
              "    'Certified equity professional preferred',\n",
              "    'System implementation and integrations experience preferred\\xa0',\n",
              "    'Experience with global equity plans and supporting an equity administration system',\n",
              "    'Experience with international equity management',\n",
              "    'Experience with Form filings (Form 3, 4, and 5)'])]]"
            ]
          },
          "metadata": {},
          "execution_count": 221
        }
      ]
    }
  ]
}